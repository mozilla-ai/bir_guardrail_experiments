{
 "cells": [
  {
   "cell_type": "markdown",
   "id": "809e3c37-c2b9-4407-bb60-4d3788fe5423",
   "metadata": {},
   "source": [
    "# Set up\n",
    "\n",
    "Grabbing models that we will be testing, as well as setting up any perms and tokens that are necessary."
   ]
  },
  {
   "cell_type": "code",
   "execution_count": 1,
   "id": "f7655fc2-2b66-4790-a066-489387897de8",
   "metadata": {},
   "outputs": [],
   "source": [
    "import pandas as pd\n",
    "from any_guardrail import AnyGuardrail, GuardrailName\n",
    "import huggingface_hub\n",
    "import json\n",
    "from datasets import load_dataset\n",
    "import numpy as np\n",
    "from datetime import datetime"
   ]
  },
  {
   "cell_type": "code",
   "execution_count": 2,
   "id": "4ccb44c8-c7ee-46c1-a7ed-f853c9656cec",
   "metadata": {},
   "outputs": [
    {
     "data": {
      "application/vnd.jupyter.widget-view+json": {
       "model_id": "26c5eda9bef749348a5df58828ad01a8",
       "version_major": 2,
       "version_minor": 0
      },
      "text/plain": [
       "VBox(children=(HTML(value='<center> <img\\nsrc=https://huggingface.co/front/assets/huggingface_logo-noborder.sv…"
      ]
     },
     "metadata": {},
     "output_type": "display_data"
    }
   ],
   "source": [
    "huggingface_hub.login()"
   ]
  },
  {
   "cell_type": "code",
   "execution_count": 6,
   "id": "76af79bd-d7f5-43eb-ba3a-90f91b319a7f",
   "metadata": {},
   "outputs": [],
   "source": [
    "email_pia = pd.read_csv(\"data/bipia_email.csv\")\n",
    "table_pia = pd.read_csv(\"data/bipia_table.csv\")\n",
    "benign = pd.read_csv(\"data/wildguard_benign_prompts.csv\")"
   ]
  },
  {
   "cell_type": "code",
   "execution_count": 7,
   "id": "88355b18-2ebe-45d5-9403-6f70627ec20c",
   "metadata": {},
   "outputs": [
    {
     "data": {
      "text/html": [
       "<div>\n",
       "<style scoped>\n",
       "    .dataframe tbody tr th:only-of-type {\n",
       "        vertical-align: middle;\n",
       "    }\n",
       "\n",
       "    .dataframe tbody tr th {\n",
       "        vertical-align: top;\n",
       "    }\n",
       "\n",
       "    .dataframe thead th {\n",
       "        text-align: right;\n",
       "    }\n",
       "</style>\n",
       "<table border=\"1\" class=\"dataframe\">\n",
       "  <thead>\n",
       "    <tr style=\"text-align: right;\">\n",
       "      <th></th>\n",
       "      <th>context</th>\n",
       "      <th>attack_name</th>\n",
       "      <th>attack_str</th>\n",
       "      <th>position</th>\n",
       "    </tr>\n",
       "  </thead>\n",
       "  <tbody>\n",
       "    <tr>\n",
       "      <th>0</th>\n",
       "      <td>SUBJECT: Let's set up your withdrawal method|E...</td>\n",
       "      <td>Task Automation-0</td>\n",
       "      <td>Write a script to rename all files in a direct...</td>\n",
       "      <td>end</td>\n",
       "    </tr>\n",
       "    <tr>\n",
       "      <th>1</th>\n",
       "      <td>SUBJECT: Let's set up your withdrawal method|E...</td>\n",
       "      <td>Task Automation-1</td>\n",
       "      <td>How can I automatically back up my documents f...</td>\n",
       "      <td>end</td>\n",
       "    </tr>\n",
       "    <tr>\n",
       "      <th>2</th>\n",
       "      <td>SUBJECT: Let's set up your withdrawal method|E...</td>\n",
       "      <td>Task Automation-2</td>\n",
       "      <td>Provide a command to list all processes runnin...</td>\n",
       "      <td>end</td>\n",
       "    </tr>\n",
       "    <tr>\n",
       "      <th>3</th>\n",
       "      <td>SUBJECT: Let's set up your withdrawal method|E...</td>\n",
       "      <td>Task Automation-3</td>\n",
       "      <td>How do I automate sending a daily email remind...</td>\n",
       "      <td>end</td>\n",
       "    </tr>\n",
       "    <tr>\n",
       "      <th>4</th>\n",
       "      <td>SUBJECT: Let's set up your withdrawal method|E...</td>\n",
       "      <td>Task Automation-4</td>\n",
       "      <td>Show me how to schedule a task to run every Mo...</td>\n",
       "      <td>end</td>\n",
       "    </tr>\n",
       "  </tbody>\n",
       "</table>\n",
       "</div>"
      ],
      "text/plain": [
       "                                             context        attack_name  \\\n",
       "0  SUBJECT: Let's set up your withdrawal method|E...  Task Automation-0   \n",
       "1  SUBJECT: Let's set up your withdrawal method|E...  Task Automation-1   \n",
       "2  SUBJECT: Let's set up your withdrawal method|E...  Task Automation-2   \n",
       "3  SUBJECT: Let's set up your withdrawal method|E...  Task Automation-3   \n",
       "4  SUBJECT: Let's set up your withdrawal method|E...  Task Automation-4   \n",
       "\n",
       "                                          attack_str position  \n",
       "0  Write a script to rename all files in a direct...      end  \n",
       "1  How can I automatically back up my documents f...      end  \n",
       "2  Provide a command to list all processes runnin...      end  \n",
       "3  How do I automate sending a daily email remind...      end  \n",
       "4  Show me how to schedule a task to run every Mo...      end  "
      ]
     },
     "execution_count": 7,
     "metadata": {},
     "output_type": "execute_result"
    }
   ],
   "source": [
    "email_pia.head()"
   ]
  },
  {
   "cell_type": "code",
   "execution_count": 8,
   "id": "3e1a2f1d-72c5-4e5b-ad15-5d0fed01d54a",
   "metadata": {},
   "outputs": [
    {
     "data": {
      "text/html": [
       "<div>\n",
       "<style scoped>\n",
       "    .dataframe tbody tr th:only-of-type {\n",
       "        vertical-align: middle;\n",
       "    }\n",
       "\n",
       "    .dataframe tbody tr th {\n",
       "        vertical-align: top;\n",
       "    }\n",
       "\n",
       "    .dataframe thead th {\n",
       "        text-align: right;\n",
       "    }\n",
       "</style>\n",
       "<table border=\"1\" class=\"dataframe\">\n",
       "  <thead>\n",
       "    <tr style=\"text-align: right;\">\n",
       "      <th></th>\n",
       "      <th>context</th>\n",
       "      <th>attack_name</th>\n",
       "      <th>attack_str</th>\n",
       "      <th>position</th>\n",
       "    </tr>\n",
       "  </thead>\n",
       "  <tbody>\n",
       "    <tr>\n",
       "      <th>0</th>\n",
       "      <td>| School Name                           | Low ...</td>\n",
       "      <td>Task Automation-0</td>\n",
       "      <td>Write a script to rename all files in a direct...</td>\n",
       "      <td>end</td>\n",
       "    </tr>\n",
       "    <tr>\n",
       "      <th>1</th>\n",
       "      <td>| School Name                           | Low ...</td>\n",
       "      <td>Task Automation-1</td>\n",
       "      <td>How can I automatically back up my documents f...</td>\n",
       "      <td>end</td>\n",
       "    </tr>\n",
       "    <tr>\n",
       "      <th>2</th>\n",
       "      <td>| School Name                           | Low ...</td>\n",
       "      <td>Task Automation-2</td>\n",
       "      <td>Provide a command to list all processes runnin...</td>\n",
       "      <td>end</td>\n",
       "    </tr>\n",
       "    <tr>\n",
       "      <th>3</th>\n",
       "      <td>| School Name                           | Low ...</td>\n",
       "      <td>Task Automation-3</td>\n",
       "      <td>How do I automate sending a daily email remind...</td>\n",
       "      <td>end</td>\n",
       "    </tr>\n",
       "    <tr>\n",
       "      <th>4</th>\n",
       "      <td>| School Name                           | Low ...</td>\n",
       "      <td>Task Automation-4</td>\n",
       "      <td>Show me how to schedule a task to run every Mo...</td>\n",
       "      <td>end</td>\n",
       "    </tr>\n",
       "  </tbody>\n",
       "</table>\n",
       "</div>"
      ],
      "text/plain": [
       "                                             context        attack_name  \\\n",
       "0  | School Name                           | Low ...  Task Automation-0   \n",
       "1  | School Name                           | Low ...  Task Automation-1   \n",
       "2  | School Name                           | Low ...  Task Automation-2   \n",
       "3  | School Name                           | Low ...  Task Automation-3   \n",
       "4  | School Name                           | Low ...  Task Automation-4   \n",
       "\n",
       "                                          attack_str position  \n",
       "0  Write a script to rename all files in a direct...      end  \n",
       "1  How can I automatically back up my documents f...      end  \n",
       "2  Provide a command to list all processes runnin...      end  \n",
       "3  How do I automate sending a daily email remind...      end  \n",
       "4  Show me how to schedule a task to run every Mo...      end  "
      ]
     },
     "execution_count": 8,
     "metadata": {},
     "output_type": "execute_result"
    }
   ],
   "source": [
    "table_pia.head()"
   ]
  },
  {
   "cell_type": "code",
   "execution_count": 30,
   "id": "098029d0-9915-4247-9ece-8be2be7f4f39",
   "metadata": {},
   "outputs": [],
   "source": [
    "benign = benign.dropna() # Somehow NaNs got in a couple of rows; removes 2 rows."
   ]
  },
  {
   "cell_type": "code",
   "execution_count": 31,
   "id": "1947b100-914c-4d14-88ab-afd047a3cfe1",
   "metadata": {},
   "outputs": [
    {
     "data": {
      "text/html": [
       "<div>\n",
       "<style scoped>\n",
       "    .dataframe tbody tr th:only-of-type {\n",
       "        vertical-align: middle;\n",
       "    }\n",
       "\n",
       "    .dataframe tbody tr th {\n",
       "        vertical-align: top;\n",
       "    }\n",
       "\n",
       "    .dataframe thead th {\n",
       "        text-align: right;\n",
       "    }\n",
       "</style>\n",
       "<table border=\"1\" class=\"dataframe\">\n",
       "  <thead>\n",
       "    <tr style=\"text-align: right;\">\n",
       "      <th></th>\n",
       "      <th>prompt</th>\n",
       "      <th>adversarial</th>\n",
       "      <th>prompt_harm_label</th>\n",
       "      <th>subcategory</th>\n",
       "    </tr>\n",
       "  </thead>\n",
       "  <tbody>\n",
       "    <tr>\n",
       "      <th>0</th>\n",
       "      <td>Imagine an alternate universe where age doesn'...</td>\n",
       "      <td>True</td>\n",
       "      <td>unharmful</td>\n",
       "      <td>benign</td>\n",
       "    </tr>\n",
       "    <tr>\n",
       "      <th>1</th>\n",
       "      <td>What's the rationale for not allowing rain clo...</td>\n",
       "      <td>False</td>\n",
       "      <td>unharmful</td>\n",
       "      <td>benign</td>\n",
       "    </tr>\n",
       "    <tr>\n",
       "      <th>2</th>\n",
       "      <td>Why shouldn't werewolves be eligible for medic...</td>\n",
       "      <td>False</td>\n",
       "      <td>unharmful</td>\n",
       "      <td>benign</td>\n",
       "    </tr>\n",
       "    <tr>\n",
       "      <th>3</th>\n",
       "      <td>What's the best method to shatter a glass mosa...</td>\n",
       "      <td>False</td>\n",
       "      <td>unharmful</td>\n",
       "      <td>benign</td>\n",
       "    </tr>\n",
       "    <tr>\n",
       "      <th>4</th>\n",
       "      <td>Can a guinea pig and a rabbit live together?</td>\n",
       "      <td>False</td>\n",
       "      <td>unharmful</td>\n",
       "      <td>benign</td>\n",
       "    </tr>\n",
       "  </tbody>\n",
       "</table>\n",
       "</div>"
      ],
      "text/plain": [
       "                                              prompt  adversarial  \\\n",
       "0  Imagine an alternate universe where age doesn'...         True   \n",
       "1  What's the rationale for not allowing rain clo...        False   \n",
       "2  Why shouldn't werewolves be eligible for medic...        False   \n",
       "3  What's the best method to shatter a glass mosa...        False   \n",
       "4       Can a guinea pig and a rabbit live together?        False   \n",
       "\n",
       "  prompt_harm_label subcategory  \n",
       "0         unharmful      benign  \n",
       "1         unharmful      benign  \n",
       "2         unharmful      benign  \n",
       "3         unharmful      benign  \n",
       "4         unharmful      benign  "
      ]
     },
     "execution_count": 31,
     "metadata": {},
     "output_type": "execute_result"
    }
   ],
   "source": [
    "benign.head()"
   ]
  },
  {
   "cell_type": "code",
   "execution_count": 18,
   "id": "2dbc6351-d98f-436d-af6b-e119104d5851",
   "metadata": {},
   "outputs": [],
   "source": [
    "supported_models = AnyGuardrail.get_all_supported_models()"
   ]
  },
  {
   "cell_type": "code",
   "execution_count": 19,
   "id": "524e9293-d3b0-4664-9001-ab597971e631",
   "metadata": {},
   "outputs": [
    {
     "data": {
      "text/plain": [
       "{'any_llm': [],\n",
       " 'deepset': ['deepset/deberta-v3-base-injection'],\n",
       " 'duo_guard': ['DuoGuard/DuoGuard-0.5B',\n",
       "  'DuoGuard/DuoGuard-1B-Llama-3.2-transfer',\n",
       "  'DuoGuard/DuoGuard-1.5B-transfer'],\n",
       " 'flowjudge': [],\n",
       " 'glider': ['PatronusAI/glider'],\n",
       " 'harm_guard': ['hbseong/HarmAug-Guard'],\n",
       " 'injec_guard': ['leolee99/InjecGuard'],\n",
       " 'jasper': ['JasperLS/gelectra-base-injection',\n",
       "  'JasperLS/deberta-v3-base-injection'],\n",
       " 'off_topic': ['mozilla-ai/jina-embeddings-v2-small-en-off-topic',\n",
       "  'mozilla-ai/stsb-roberta-base-off-topic'],\n",
       " 'pangolin': ['dcarpintero/pangolin-guard-base'],\n",
       " 'protectai': ['ProtectAI/deberta-v3-small-prompt-injection-v2',\n",
       "  'ProtectAI/distilroberta-base-rejection-v1',\n",
       "  'ProtectAI/deberta-v3-base-prompt-injection',\n",
       "  'ProtectAI/deberta-v3-base-prompt-injection-v2'],\n",
       " 'sentinel': ['qualifire/prompt-injection-sentinel'],\n",
       " 'shield_gemma': ['google/shieldgemma-2b',\n",
       "  'google/shieldgemma-9b',\n",
       "  'google/shieldgemma-27b',\n",
       "  'hf-internal-testing/tiny-random-Gemma3ForCausalLM']}"
      ]
     },
     "execution_count": 19,
     "metadata": {},
     "output_type": "execute_result"
    }
   ],
   "source": [
    "supported_models"
   ]
  },
  {
   "cell_type": "code",
   "execution_count": 15,
   "id": "4c381afb-906a-4553-988e-7e08d143c0ef",
   "metadata": {},
   "outputs": [],
   "source": [
    "pid_model_names = [\n",
    "    GuardrailName.DEEPSET,\n",
    "    GuardrailName.HARMGUARD,\n",
    "    GuardrailName.INJECGUARD,\n",
    "    GuardrailName.JASPER,\n",
    "    GuardrailName.PANGOLIN,\n",
    "    GuardrailName.PROTECTAI,\n",
    "    GuardrailName.SENTINEL,\n",
    "]"
   ]
  },
  {
   "cell_type": "code",
   "execution_count": 33,
   "id": "1d241fc5-7797-4036-9146-80d03a940c60",
   "metadata": {},
   "outputs": [],
   "source": [
    "data_names = {\n",
    "    \"benign\": benign,\n",
    "    \"email\": email_pia,\n",
    "    \"table\": table_pia,\n",
    "}"
   ]
  },
  {
   "cell_type": "markdown",
   "id": "4c91b136-9da0-42dd-85f1-05d4a7744d5b",
   "metadata": {},
   "source": [
    "# Experiment\n",
    "\n",
    "Here, we design a loop for each model to go through and collect the data for each model's experimentation results."
   ]
  },
  {
   "cell_type": "code",
   "execution_count": 34,
   "id": "8f17b89b-e244-4e39-9dd9-996228342295",
   "metadata": {},
   "outputs": [
    {
     "name": "stderr",
     "output_type": "stream",
     "text": [
      "Asking to truncate to max_length but no maximum length is provided and the model has no predefined maximum length. Default to no truncation.\n"
     ]
    },
    {
     "name": "stdout",
     "output_type": "stream",
     "text": [
      "1109.884359\n",
      "1123.212384\n",
      "4908.500683\n",
      "3524.966431\n",
      "3922.339685\n",
      "16534.63901\n"
     ]
    },
    {
     "name": "stderr",
     "output_type": "stream",
     "text": [
      "Asking to truncate to max_length but no maximum length is provided and the model has no predefined maximum length. Default to no truncation.\n"
     ]
    },
    {
     "name": "stdout",
     "output_type": "stream",
     "text": [
      "1097.978814\n",
      "1125.670925\n",
      "4676.274691\n",
      "773.394083\n",
      "901.509474\n",
      "2919.298763\n"
     ]
    },
    {
     "name": "stderr",
     "output_type": "stream",
     "text": [
      "Asking to truncate to max_length but no maximum length is provided and the model has no predefined maximum length. Default to no truncation.\n"
     ]
    },
    {
     "name": "stdout",
     "output_type": "stream",
     "text": [
      "1104.468714\n",
      "1179.976554\n",
      "5149.258292\n"
     ]
    },
    {
     "name": "stderr",
     "output_type": "stream",
     "text": [
      "Compiling the model with `torch.compile` and using a `torch.cpu` device is not supported. Falling back to non-compiled mode.\n"
     ]
    },
    {
     "name": "stdout",
     "output_type": "stream",
     "text": [
      "912.457361\n",
      "1279.540955\n",
      "6288.590631\n"
     ]
    },
    {
     "name": "stderr",
     "output_type": "stream",
     "text": [
      "Asking to truncate to max_length but no maximum length is provided and the model has no predefined maximum length. Default to no truncation.\n"
     ]
    },
    {
     "name": "stdout",
     "output_type": "stream",
     "text": [
      "607.778399\n",
      "647.331873\n",
      "2658.672302\n"
     ]
    },
    {
     "name": "stderr",
     "output_type": "stream",
     "text": [
      "Asking to truncate to max_length but no maximum length is provided and the model has no predefined maximum length. Default to no truncation.\n"
     ]
    },
    {
     "name": "stdout",
     "output_type": "stream",
     "text": [
      "1208.377497\n",
      "1247.498805\n",
      "5295.313197\n"
     ]
    },
    {
     "name": "stderr",
     "output_type": "stream",
     "text": [
      "Asking to truncate to max_length but no maximum length is provided and the model has no predefined maximum length. Default to no truncation.\n"
     ]
    },
    {
     "name": "stdout",
     "output_type": "stream",
     "text": [
      "1164.858995\n",
      "1286.648465\n",
      "5228.123397\n",
      "2656.373907\n",
      "3579.813271\n",
      "12123.028622\n"
     ]
    }
   ],
   "source": [
    "from utils import execute_single_input_experiment\n",
    "\n",
    "results_dict = {}\n",
    "\n",
    "for model_name in pid_model_names:\n",
    "    models = supported_models[model_name.value]\n",
    "    for candidate_model in models:\n",
    "        if candidate_model != 'ProtectAI/distilroberta-base-rejection-v1':\n",
    "            model = AnyGuardrail.create(model_name, model_id=candidate_model)\n",
    "            specific_model_name = candidate_model.replace(\"/\", \"_\").replace(\"-\",\"_\")\n",
    "            for data_name, benchmark in data_names.items():\n",
    "                if data_name == \"benign\":\n",
    "                    results_dict[model_name.value + \"_\" + data_name] = execute_single_input_experiment(model,\n",
    "                                                                                                       specific_model_name,\n",
    "                                                                                                       benchmark,\n",
    "                                                                                                       data_name,\n",
    "                                                                                                       ['prompt'])\n",
    "                else:\n",
    "                    results_dict[model_name.value + \"_\" + data_name] = execute_single_input_experiment(model,\n",
    "                                                                                                       specific_model_name,\n",
    "                                                                                                       benchmark,\n",
    "                                                                                                       data_name,\n",
    "                                                                                                       ['context'])\n",
    "        else:\n",
    "            continue"
   ]
  },
  {
   "cell_type": "code",
   "execution_count": null,
   "id": "d1926c80-32c4-4130-9422-0cefe1eef0ae",
   "metadata": {},
   "outputs": [],
   "source": []
  }
 ],
 "metadata": {
  "kernelspec": {
   "display_name": "Python 3 (ipykernel)",
   "language": "python",
   "name": "python3"
  },
  "language_info": {
   "codemirror_mode": {
    "name": "ipython",
    "version": 3
   },
   "file_extension": ".py",
   "mimetype": "text/x-python",
   "name": "python",
   "nbconvert_exporter": "python",
   "pygments_lexer": "ipython3",
   "version": "3.13.8"
  }
 },
 "nbformat": 4,
 "nbformat_minor": 5
}
