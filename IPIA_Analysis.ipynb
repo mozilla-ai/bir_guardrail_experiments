{
 "cells": [
  {
   "cell_type": "markdown",
   "id": "a9ec9b27-3b50-4643-98b8-8c82f44a4745",
   "metadata": {},
   "source": [
    "# Loading Data and Setup\n",
    "\n",
    "Here, we load all the files related to the IPIA experiments and organize them into a file that helps govern the analysis of results."
   ]
  },
  {
   "cell_type": "code",
   "execution_count": 2,
   "id": "a19dd817-c7e6-4677-a4b2-046409342b49",
   "metadata": {},
   "outputs": [],
   "source": [
    "import pandas as pd\n",
    "import json\n",
    "import glob\n",
    "import os"
   ]
  },
  {
   "cell_type": "code",
   "execution_count": 3,
   "id": "a4121092-6087-463b-addb-1acc4b24a9df",
   "metadata": {},
   "outputs": [],
   "source": [
    "def read_json_files_from_directory(directory_path):\n",
    "    \"\"\"\n",
    "    Reads all JSON files from a specified directory and returns their content\n",
    "    as a list of Python dictionaries.\n",
    "\n",
    "    Args:\n",
    "        directory_path (str): The path to the directory containing the JSON files.\n",
    "\n",
    "    Returns:\n",
    "        list: A list of dictionaries, where each dictionary represents the\n",
    "              content of a JSON file.\n",
    "    \"\"\"\n",
    "    json_data = []\n",
    "    # Construct the pattern to find all .json files in the directory\n",
    "    json_pattern = os.path.join(directory_path, '*.json')\n",
    "\n",
    "    # Use glob to get a list of all matching file paths\n",
    "    file_list = glob.glob(json_pattern)\n",
    "\n",
    "    for file_path in file_list:\n",
    "        try:\n",
    "            with open(file_path, 'r', encoding='utf-8') as f:\n",
    "                data = json.load(f)\n",
    "                json_data.append(data)\n",
    "        except json.JSONDecodeError as e:\n",
    "            print(f\"Error decoding JSON from {file_path}: {e}\")\n",
    "        except FileNotFoundError:\n",
    "            print(f\"File not found: {file_path}\")\n",
    "        except Exception as e:\n",
    "            print(f\"An unexpected error occurred while reading {file_path}: {e}\")\n",
    "    return json_data"
   ]
  },
  {
   "cell_type": "code",
   "execution_count": 5,
   "id": "dc9be749-a00a-4409-933c-1bb3c120cb0c",
   "metadata": {},
   "outputs": [],
   "source": [
    "directory_path = \"/home/dni138/mozilla_ai/data\""
   ]
  },
  {
   "cell_type": "code",
   "execution_count": 7,
   "id": "912a9111-c470-4e5d-917d-26025ed19adf",
   "metadata": {},
   "outputs": [],
   "source": [
    "all_json_data = read_json_files_from_directory(directory_path)"
   ]
  },
  {
   "cell_type": "code",
   "execution_count": 13,
   "id": "b14c6f06-247a-489e-9a3a-8970afcd84ff",
   "metadata": {},
   "outputs": [
    {
     "data": {
      "text/plain": [
       "True"
      ]
     },
     "execution_count": 13,
     "metadata": {},
     "output_type": "execute_result"
    }
   ],
   "source": [
    "json.loads(all_json_data[0]['dcarpintero_pangolin_guard_base_prompt_benign'][0])['valid']"
   ]
  },
  {
   "cell_type": "code",
   "execution_count": 15,
   "id": "b9e1a94b-6b06-478a-aefc-a425d9fcc55b",
   "metadata": {},
   "outputs": [
    {
     "data": {
      "text/plain": [
       "'dcarpintero_pangolin_guard_base_prompt_benign'"
      ]
     },
     "execution_count": 15,
     "metadata": {},
     "output_type": "execute_result"
    }
   ],
   "source": [
    "list(all_json_data[0].keys())[0]"
   ]
  },
  {
   "cell_type": "code",
   "execution_count": 20,
   "id": "5c291f9d-a480-4faa-b609-6323fddd5241",
   "metadata": {},
   "outputs": [],
   "source": [
    "test_names = []\n",
    "for dataset in all_json_data:\n",
    "    test_names.append(list(dataset.keys())[0])"
   ]
  },
  {
   "cell_type": "code",
   "execution_count": 24,
   "id": "6658a80f-b434-40e1-87f8-c1ef79c318e0",
   "metadata": {},
   "outputs": [],
   "source": [
    "prefixes = []\n",
    "for name in test_names:\n",
    "    prefixes.append(\"_\".join(name.split(\"_\")[:-2]))"
   ]
  },
  {
   "cell_type": "code",
   "execution_count": 27,
   "id": "2571240c-1233-4885-b785-89ad0fa1b926",
   "metadata": {},
   "outputs": [],
   "source": [
    "prefixes = list(set(prefixes))"
   ]
  },
  {
   "cell_type": "code",
   "execution_count": 28,
   "id": "5cff492a-7bba-4e42-ac5a-c3815d746df4",
   "metadata": {},
   "outputs": [
    {
     "data": {
      "text/plain": [
       "['ProtectAI_deberta_v3_base_prompt_injection_v2',\n",
       " 'deepset_deberta_v3_base_injection',\n",
       " 'ProtectAI_deberta_v3_small_prompt_injection_v2',\n",
       " 'JasperLS_gelectra_base_injection',\n",
       " 'leolee99_InjecGuard',\n",
       " 'hbseong_HarmAug_Guard',\n",
       " 'JasperLS_deberta_v3_base_injection',\n",
       " 'dcarpintero_pangolin_guard_base',\n",
       " 'ProtectAI_deberta_v3_base_prompt_injection',\n",
       " 'qualifire_prompt_injection_sentinel']"
      ]
     },
     "execution_count": 28,
     "metadata": {},
     "output_type": "execute_result"
    }
   ],
   "source": [
    "prefixes"
   ]
  },
  {
   "cell_type": "code",
   "execution_count": 32,
   "id": "e89907b0-7d53-48e4-b713-c54ea04e82d5",
   "metadata": {},
   "outputs": [],
   "source": [
    "from collections import defaultdict\n",
    "\n",
    "prefix_to_name = defaultdict(list)\n",
    "for prefix in prefixes:\n",
    "    for name in test_names:\n",
    "        if prefix == \"_\".join(name.split(\"_\")[:-2]):\n",
    "            prefix_to_name[prefix].append(name)"
   ]
  },
  {
   "cell_type": "code",
   "execution_count": 37,
   "id": "460a5186-8fda-4ddb-b11e-a39a44a52347",
   "metadata": {},
   "outputs": [],
   "source": [
    "organized_data = {}\n",
    "for prefix in prefixes:\n",
    "    dict_to_frame = defaultdict(list)\n",
    "    for test_name in prefix_to_name[prefix]:\n",
    "        for dataset in all_json_data:\n",
    "            if test_name in dataset.keys():\n",
    "                column_name = test_name.split(\"_\")[-1]\n",
    "                for line in dataset[test_name]:\n",
    "                    dict_to_frame[column_name].append(json.loads(line)['valid'])\n",
    "    organized_data[prefix] = dict_to_frame"
   ]
  },
  {
   "cell_type": "code",
   "execution_count": 38,
   "id": "e05345d3-1e4b-4e47-b9b9-a2dd891008fa",
   "metadata": {},
   "outputs": [
    {
     "data": {
      "text/plain": [
       "dict_keys(['ProtectAI_deberta_v3_base_prompt_injection_v2', 'deepset_deberta_v3_base_injection', 'ProtectAI_deberta_v3_small_prompt_injection_v2', 'JasperLS_gelectra_base_injection', 'leolee99_InjecGuard', 'hbseong_HarmAug_Guard', 'JasperLS_deberta_v3_base_injection', 'dcarpintero_pangolin_guard_base', 'ProtectAI_deberta_v3_base_prompt_injection', 'qualifire_prompt_injection_sentinel'])"
      ]
     },
     "execution_count": 38,
     "metadata": {},
     "output_type": "execute_result"
    }
   ],
   "source": [
    "organized_data.keys()"
   ]
  },
  {
   "cell_type": "code",
   "execution_count": null,
   "id": "21fd226d-9816-4450-b5a2-43a835b1fec6",
   "metadata": {},
   "outputs": [],
   "source": [
    "with open(\"/home/dni138/mozilla_ai/data/organized_results.json\", \"w\") as f:\n",
    "    json.dump(organized_data, f)"
   ]
  },
  {
   "cell_type": "markdown",
   "id": "978364ba-1dc5-4859-8089-9a0c1695215f",
   "metadata": {},
   "source": [
    "# Analysis\n",
    "\n",
    "Here, we analyze the results from the PIA experiment. Specifically, we look at the F1-Score, Precision, Recall, and Confusion Matrix."
   ]
  },
  {
   "cell_type": "code",
   "execution_count": 3,
   "id": "8111c722-7c56-4fc7-b37a-18f7a0cbfd64",
   "metadata": {},
   "outputs": [],
   "source": [
    "with open(\"/home/dni138/mozilla_ai/data/organized_results.json\", \"r\") as f:\n",
    "    organized_data = json.load(f)"
   ]
  },
  {
   "cell_type": "code",
   "execution_count": 5,
   "id": "133a187f-9d24-47e7-be93-53f13a2b846c",
   "metadata": {
    "scrolled": true
   },
   "outputs": [],
   "source": [
    "key = list(organized_data.keys())[0]\n",
    "\n",
    "gt_email = [False] * len(organized_data[key]['email'])\n",
    "gt_table = [False] * len(organized_data[key]['table'])\n",
    "gt_benign = [True] * len(organized_data[key]['benign'])"
   ]
  },
  {
   "cell_type": "code",
   "execution_count": 9,
   "id": "c6ea816e-4373-49b7-8301-1d81d03e1f83",
   "metadata": {},
   "outputs": [
    {
     "name": "stdout",
     "output_type": "stream",
     "text": [
      "------EMAIL RESULTS-------\n",
      "ProtectAI_deberta_v3_base_prompt_injection_v2\n",
      "F1 Score: 0.6321148065548337\n",
      "Precision: 0.6952858361774744\n",
      "Recall: 0.5794666666666667\n",
      "Confusion Matrix: \n",
      "\n",
      " [[6519 4731]\n",
      " [2857 8391]] \n",
      "\n",
      "------TABLE RESULTS-------\n",
      "ProtectAI_deberta_v3_base_prompt_injection_v2\n",
      "F1 Score: 0.0741275206015266\n",
      "Precision: 0.2546308374641273\n",
      "Recall: 0.04337777777777778\n",
      "Confusion Matrix: \n",
      "\n",
      " [[  976 21524]\n",
      " [ 2857  8391]] \n",
      "\n",
      "------EMAIL RESULTS-------\n",
      "deepset_deberta_v3_base_injection\n",
      "F1 Score: 0.7805995004163198\n",
      "Precision: 0.6401502219187436\n",
      "Recall: 1.0\n",
      "Confusion Matrix: \n",
      "\n",
      " [[11250     0]\n",
      " [ 6324  4924]] \n",
      "\n",
      "------TABLE RESULTS-------\n",
      "deepset_deberta_v3_base_injection\n",
      "F1 Score: 0.8767827916764087\n",
      "Precision: 0.7805995004163198\n",
      "Recall: 1.0\n",
      "Confusion Matrix: \n",
      "\n",
      " [[22500     0]\n",
      " [ 6324  4924]] \n",
      "\n",
      "------EMAIL RESULTS-------\n",
      "ProtectAI_deberta_v3_small_prompt_injection_v2\n",
      "F1 Score: 0.2409760414691194\n",
      "Precision: 0.41715911578025827\n",
      "Recall: 0.16942222222222222\n",
      "Confusion Matrix: \n",
      "\n",
      " [[1906 9344]\n",
      " [2663 8585]] \n",
      "\n",
      "------TABLE RESULTS-------\n",
      "ProtectAI_deberta_v3_small_prompt_injection_v2\n",
      "F1 Score: 0.016865665760334162\n",
      "Precision: 0.07438303788668753\n",
      "Recall: 0.00951111111111111\n",
      "Confusion Matrix: \n",
      "\n",
      " [[  214 22286]\n",
      " [ 2663  8585]] \n",
      "\n",
      "------EMAIL RESULTS-------\n",
      "JasperLS_gelectra_base_injection\n",
      "F1 Score: 0.7760493912323664\n",
      "Precision: 0.6340528659189539\n",
      "Recall: 1.0\n",
      "Confusion Matrix: \n",
      "\n",
      " [[11250     0]\n",
      " [ 6493  4755]] \n",
      "\n",
      "------TABLE RESULTS-------\n",
      "JasperLS_gelectra_base_injection\n",
      "F1 Score: 0.8739051909968345\n",
      "Precision: 0.7760493912323664\n",
      "Recall: 1.0\n",
      "Confusion Matrix: \n",
      "\n",
      " [[22500     0]\n",
      " [ 6493  4755]] \n",
      "\n",
      "------EMAIL RESULTS-------\n",
      "leolee99_InjecGuard\n",
      "F1 Score: 0.8637550725219977\n",
      "Precision: 0.7881076325243787\n",
      "Recall: 0.9554666666666667\n",
      "Confusion Matrix: \n",
      "\n",
      " [[10749   501]\n",
      " [ 2890  8358]] \n",
      "\n",
      "------TABLE RESULTS-------\n",
      "leolee99_InjecGuard\n",
      "F1 Score: 0.9082856774304511\n",
      "Precision: 0.8796535354376613\n",
      "Recall: 0.9388444444444445\n",
      "Confusion Matrix: \n",
      "\n",
      " [[21124  1376]\n",
      " [ 2890  8358]] \n",
      "\n",
      "------EMAIL RESULTS-------\n",
      "hbseong_HarmAug_Guard\n",
      "F1 Score: 0.6286682398499425\n",
      "Precision: 0.9844608679173773\n",
      "Recall: 0.4617777777777778\n",
      "Confusion Matrix: \n",
      "\n",
      " [[ 5195  6055]\n",
      " [   82 11166]] \n",
      "\n",
      "------TABLE RESULTS-------\n",
      "hbseong_HarmAug_Guard\n",
      "F1 Score: 0.17068330025517436\n",
      "Precision: 0.9625399725902238\n",
      "Recall: 0.09364444444444445\n",
      "Confusion Matrix: \n",
      "\n",
      " [[ 2107 20393]\n",
      " [   82 11166]] \n",
      "\n",
      "------EMAIL RESULTS-------\n",
      "JasperLS_deberta_v3_base_injection\n",
      "F1 Score: 0.7805995004163198\n",
      "Precision: 0.6401502219187436\n",
      "Recall: 1.0\n",
      "Confusion Matrix: \n",
      "\n",
      " [[11250     0]\n",
      " [ 6324  4924]] \n",
      "\n",
      "------TABLE RESULTS-------\n",
      "JasperLS_deberta_v3_base_injection\n",
      "F1 Score: 0.8767827916764087\n",
      "Precision: 0.7805995004163198\n",
      "Recall: 1.0\n",
      "Confusion Matrix: \n",
      "\n",
      " [[22500     0]\n",
      " [ 6324  4924]] \n",
      "\n",
      "------EMAIL RESULTS-------\n",
      "dcarpintero_pangolin_guard_base\n",
      "F1 Score: 0.6744897041632947\n",
      "Precision: 0.68240538573508\n",
      "Recall: 0.6667555555555555\n",
      "Confusion Matrix: \n",
      "\n",
      " [[7501 3749]\n",
      " [3491 7757]] \n",
      "\n",
      "------TABLE RESULTS-------\n",
      "dcarpintero_pangolin_guard_base\n",
      "F1 Score: 0.8015953522685356\n",
      "Precision: 0.8327744778693236\n",
      "Recall: 0.7726666666666666\n",
      "Confusion Matrix: \n",
      "\n",
      " [[17385  5115]\n",
      " [ 3491  7757]] \n",
      "\n",
      "------EMAIL RESULTS-------\n",
      "ProtectAI_deberta_v3_base_prompt_injection\n",
      "F1 Score: 0.029489927132447493\n",
      "Precision: 0.41445783132530123\n",
      "Recall: 0.015288888888888888\n",
      "Confusion Matrix: \n",
      "\n",
      " [[  172 11078]\n",
      " [  243 11005]] \n",
      "\n",
      "------TABLE RESULTS-------\n",
      "ProtectAI_deberta_v3_base_prompt_injection\n",
      "F1 Score: 0.00043959908563390187\n",
      "Precision: 0.020161290322580645\n",
      "Recall: 0.00022222222222222223\n",
      "Confusion Matrix: \n",
      "\n",
      " [[    5 22495]\n",
      " [  243 11005]] \n",
      "\n",
      "------EMAIL RESULTS-------\n",
      "qualifire_prompt_injection_sentinel\n",
      "F1 Score: 0.8744348153730218\n",
      "Precision: 0.929973953115608\n",
      "Recall: 0.8251555555555555\n",
      "Confusion Matrix: \n",
      "\n",
      " [[ 9283  1967]\n",
      " [  699 10549]] \n",
      "\n",
      "------TABLE RESULTS-------\n",
      "qualifire_prompt_injection_sentinel\n",
      "F1 Score: 0.03148069579974544\n",
      "Precision: 0.3467289719626168\n",
      "Recall: 0.01648888888888889\n",
      "Confusion Matrix: \n",
      "\n",
      " [[  371 22129]\n",
      " [  699 10549]] \n",
      "\n"
     ]
    }
   ],
   "source": [
    "from sklearn.metrics import precision_score, recall_score, f1_score, confusion_matrix\n",
    "\n",
    "for key in organized_data.keys():\n",
    "    dataset = organized_data[key]\n",
    "\n",
    "    print(\"------EMAIL RESULTS-------\")\n",
    "    email_results = dataset['email'] + dataset['benign']\n",
    "    gt_results = gt_email + gt_benign\n",
    "    print(key)\n",
    "    print(\"F1 Score: {}\".format(f1_score(gt_results, email_results, pos_label=False)))\n",
    "    print(\"Precision: {}\".format(precision_score(gt_results, email_results, pos_label=False)))\n",
    "    print(\"Recall: {}\".format(recall_score(gt_results, email_results, pos_label=False)))\n",
    "    print(\"Confusion Matrix: \\n\\n {} \\n\".format(confusion_matrix(gt_results, email_results, labels=[False, True])))\n",
    "\n",
    "    print(\"------TABLE RESULTS-------\")\n",
    "    table_results = dataset['table'] + dataset['benign']\n",
    "    gt_results = gt_table + gt_benign\n",
    "    print(key)\n",
    "    print(\"F1 Score: {}\".format(f1_score(gt_results, table_results, pos_label=False)))\n",
    "    print(\"Precision: {}\".format(precision_score(gt_results, table_results, pos_label=False)))\n",
    "    print(\"Recall: {}\".format(recall_score(gt_results, table_results, pos_label=False)))\n",
    "    print(\"Confusion Matrix: \\n\\n {} \\n\".format(confusion_matrix(gt_results, table_results, labels=[False, True])))"
   ]
  }
 ],
 "metadata": {
  "kernelspec": {
   "display_name": "Python 3 (ipykernel)",
   "language": "python",
   "name": "python3"
  },
  "language_info": {
   "codemirror_mode": {
    "name": "ipython",
    "version": 3
   },
   "file_extension": ".py",
   "mimetype": "text/x-python",
   "name": "python",
   "nbconvert_exporter": "python",
   "pygments_lexer": "ipython3",
   "version": "3.14.0"
  }
 },
 "nbformat": 4,
 "nbformat_minor": 5
}
